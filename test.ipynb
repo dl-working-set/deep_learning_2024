{
 "cells": [
  {
   "metadata": {},
   "cell_type": "markdown",
   "source": [
    "- 模型应用\n",
    "  - 模型加载\n",
    "  - 模型测试集评估\n",
    "    - 准确率\n",
    "    - 召回率\n",
    "    - F1\n"
   ],
   "id": "4f2f86b545fa0ce0"
  },
  {
   "metadata": {
    "ExecuteTime": {
     "end_time": "2024-10-29T09:38:39.547251Z",
     "start_time": "2024-10-29T09:38:31.549657Z"
    }
   },
   "cell_type": "code",
   "source": [
    "# 测试集评论数据测试\n",
    "\n",
    "import time\n",
    "\n",
    "import torch\n",
    "from sklearn.metrics import precision_score, recall_score, f1_score, classification_report\n",
    "\n",
    "import dataset\n",
    "import embedding\n",
    "import model\n",
    "from init import config\n",
    "\n",
    "stopwords = dataset.load_stopwords(config.stopwords_path)\n",
    "model = model.SentimentAnalysisModel().load(config.model_pt_path).to(config.device)\n",
    "print('test_model[{:s}]'.format(config.model_pt_path), )\n",
    "word_embedding = embedding.WordEmbedding().load(config.embedding_pt_path).to(config.device)\n",
    "print('word_embedding[{:s}]'.format(config.embedding_pt_path), )\n",
    "test_contents, test_emotions = dataset.load_contents_labels(config.test_data_path)\n",
    "test_tokens = dataset.tokenization(test_contents, stopwords)\n",
    "test_dataset = dataset.SentimentAnalysisDataset(tokens=test_tokens, emotions=test_emotions,\n",
    "                                                sequence_length=config.model_sequence_length,\n",
    "                                                key_to_index=word_embedding.key_to_index, ).dataset\n",
    "loss_fn = torch.nn.CrossEntropyLoss()\n",
    "model.eval()\n",
    "data, targets = test_dataset.tensors[0].to(config.device), test_dataset.tensors[1].to(config.device)\n",
    "output = model(data)\n",
    "test_loss = loss_fn(output, targets).item()\n",
    "predicted = output.argmax(dim=1).cpu().numpy()\n",
    "labels = targets.cpu().numpy()\n",
    "print(\"每个类别的精确率和召回率：\\n\",\n",
    "      classification_report(labels, predicted, target_names=dataset.emotion2label.keys()))\n",
    "\n",
    "test_macro_precision = precision_score(labels, predicted, average='macro', zero_division=0)  # 宏精准率\n",
    "test_macro_recall = recall_score(labels, predicted, average='macro', zero_division=0)  # 宏召回率\n",
    "test_macro_f1 = f1_score(labels, predicted, average='macro')  # 宏F1值\n",
    "print('test_loss[{:f}]'.format(test_loss),\n",
    "      'test_macro_precision[{:f}]'.format(test_macro_precision),\n",
    "      'test_macro_recall[{:f}]'.format(test_macro_recall),\n",
    "      'test_macro_f1[{:f}]'.format(test_macro_f1),\n",
    "      time.strftime('%Y-%m-%d %H:%M:%S', time.localtime(time.time())))"
   ],
   "id": "edd520e40310cd16",
   "outputs": [
    {
     "name": "stderr",
     "output_type": "stream",
     "text": [
      "/Users/yangyunxiang/Documents/project/HAI/DL/deep_learning_2024/embedding.py:33: FutureWarning: You are using `torch.load` with `weights_only=False` (the current default value), which uses the default pickle module implicitly. It is possible to construct malicious pickle data which will execute arbitrary code during unpickling (See https://github.com/pytorch/pytorch/blob/main/SECURITY.md#untrusted-models for more details). In a future release, the default value for `weights_only` will be flipped to `True`. This limits the functions that could be executed during unpickling. Arbitrary objects will no longer be allowed to be loaded via this mode unless they are explicitly allowlisted by the user via `torch.serialization.add_safe_globals`. We recommend you start setting `weights_only=True` for any use case where you don't have full control of the loaded file. Please open an issue on GitHub for any issues related to this experimental feature.\n",
      "  checkpoint = torch.load(filename)\n",
      "Building prefix dict from the default dictionary ...\n",
      "DEBUG:jieba:Building prefix dict from the default dictionary ...\n",
      "Loading model from cache /var/folders/0c/mlkxmg2j1_qf8hx18_nrz0l00000gn/T/jieba.cache\n",
      "DEBUG:jieba:Loading model from cache /var/folders/0c/mlkxmg2j1_qf8hx18_nrz0l00000gn/T/jieba.cache\n"
     ]
    },
    {
     "name": "stdout",
     "output_type": "stream",
     "text": [
      "test_model[pt/model_Transformer_512_0.4_ReLU_100_35_256_1_0.001_0.8_pt]\n",
      "word_embedding[pt/embedding.pt]\n"
     ]
    },
    {
     "name": "stderr",
     "output_type": "stream",
     "text": [
      "Loading model cost 0.347 seconds.\n",
      "DEBUG:jieba:Loading model cost 0.347 seconds.\n",
      "Prefix dict has been built successfully.\n",
      "DEBUG:jieba:Prefix dict has been built successfully.\n"
     ]
    },
    {
     "name": "stdout",
     "output_type": "stream",
     "text": [
      "每个类别的精确率和召回率：\n",
      "               precision    recall  f1-score   support\n",
      "\n",
      "        非常满意       0.76      0.54      0.63       885\n",
      "          满意       0.66      0.65      0.66      1247\n",
      "          中立       0.31      0.40      0.35       267\n",
      "         不满意       0.54      0.59      0.56      1150\n",
      "       非常不满意       0.72      0.76      0.74      1320\n",
      "\n",
      "    accuracy                           0.63      4869\n",
      "   macro avg       0.60      0.59      0.59      4869\n",
      "weighted avg       0.65      0.63      0.64      4869\n",
      "\n",
      "test_loss[0.952515] test_macro_precision[0.598000] test_macro_recall[0.589629] test_macro_f1[0.588184] 2024-10-29 17:38:39\n"
     ]
    }
   ],
   "execution_count": 1
  },
  {
   "metadata": {
    "ExecuteTime": {
     "end_time": "2024-10-29T09:39:10.838456Z",
     "start_time": "2024-10-29T09:39:10.702229Z"
    }
   },
   "cell_type": "code",
   "source": [
    "# 随机评论数据测试\n",
    "import numpy\n",
    "import torch\n",
    "import model\n",
    "import dataset\n",
    "import embedding\n",
    "from init import config\n",
    "\n",
    "stopwords = dataset.load_stopwords(config.stopwords_path)\n",
    "model = model.SentimentAnalysisModel().load(config.model_pt_path).to(config.device)\n",
    "print('test_model[{:s}]'.format(config.model_pt_path), )\n",
    "word_embedding = embedding.WordEmbedding().load(config.embedding_pt_path).to(config.device)\n",
    "print('word_embedding[{:s}]'.format(config.embedding_pt_path), )\n",
    "\n",
    "contents = [\"感觉这个秤非常小巧精致实用。自从看到家人买来这个秤以后，其他的包括秤（包括金器秤）都被闲置了\",\n",
    "            \"第三次购买了，还算挺好的，希望能更耐用一些。\",\n",
    "            \"没什想说的，中规中矩，没什么色差\",\n",
    "            \"秤盘不平，一边高一边低。这个价位不应该这样了。按键硬，按起来费力。底座盘不平，有一个脚悬空\",\n",
    "            \"底座四个点不平，质量非常差，本来就是有精度要求，结果买一个底座不平的电子秤。简直是一个笑话\",\n",
    "            \"f2@#$%#@@(*(*#@(*Y*(H*((@*#(Hskhkashkj欧)))))))\",\n",
    "            \"? TP-LINK TL-WR886N 450M无线路由器（宝蓝） WIFI无线穿墙王\",\n",
    "            \"好好好好好好好好好好好好好好好\",\n",
    "            \"T收到东西很快，包装精美，京东618真的很便宜哦！\",\n",
    "            \"T给老爸买来用的，听听音乐，看看文件，上个网足够了\",\n",
    "            \"T凑单买的，京东物流就是快上午下单，下午就到了\",\n",
    "            \"T苹果味道挺不错水分也足还甜就是有几个伤到骨头好像开始烂了\",\n",
    "            \"T用了不到三个星期，电话打不出去，也挂不断，找客服，让我去维修点检测，我一看发来的维修点还在省会，不能退不能换，让我自己不上班出车费去吗？这是老子第一次用华为也是最后一次！\",\n",
    "            \"T中粮董事长：蒙牛若再现质量问题市场将不会饶恕 全文: http:t.cn/zj2mwFp （分享自 @Wind资讯）\",\n",
    "            \"V裤子质量不错非常好，面料也厚实，尺码很合身\",\n",
    "            \"V挺好，质量不错，舒服，值得买\",\n",
    "            \"V对于大部分不抽烟，不喝蒙牛的朋友，这条的启示是别吃隔夜菜。\",\n",
    "            \"V裤子不是很好，面料也没弹性，版型也不怎么好，和图片也是两回事\",\n",
    "            \"V根本不是纯棉，一颗星都不想给\",\n",
    "            \"V谬论？内蒙基层官员：蒙牛伊利没任何毛病 源头不安全 http:t.cn/zjzVHW4 （分享自 @新浪财经）\",]\n",
    "\n",
    "key_to_index = word_embedding.key_to_index\n",
    "tokens = dataset.tokenization(contents, stopwords)\n",
    "tokens = [[word for word in token if word in key_to_index] for token in tokens]\n",
    "tokens_truncated = [token[:config.model_sequence_length] for token in tokens]\n",
    "tokens_padded = [dataset.padding(token, config.model_sequence_length) for token in tokens_truncated]\n",
    "tokens_ids = [[key_to_index[word] for word in token if word in key_to_index] for\n",
    "              token in tokens_padded]\n",
    "\n",
    "for i, token_id in enumerate(tokens_ids):\n",
    "    data = torch.LongTensor(numpy.array(token_id)).unsqueeze(0).to(config.device)\n",
    "    output = model(data)\n",
    "    predicted = output.argmax(dim=1).cpu().numpy()\n",
    "    print(contents[i], predicted[0], dataset.label2emotion.get(predicted[0]))"
   ],
   "id": "dbb9e95b04ecf63",
   "outputs": [
    {
     "name": "stdout",
     "output_type": "stream",
     "text": [
      "test_model[pt/model_Transformer_512_0.4_ReLU_100_35_256_1_0.001_0.8_pt]\n",
      "word_embedding[pt/embedding.pt]\n",
      "感觉这个秤非常小巧精致实用。自从看到家人买来这个秤以后，其他的包括秤（包括金器秤）都被闲置了 0 非常满意\n",
      "第三次购买了，还算挺好的，希望能更耐用一些。 1 满意\n",
      "没什想说的，中规中矩，没什么色差 3 不满意\n",
      "秤盘不平，一边高一边低。这个价位不应该这样了。按键硬，按起来费力。底座盘不平，有一个脚悬空 3 不满意\n",
      "底座四个点不平，质量非常差，本来就是有精度要求，结果买一个底座不平的电子秤。简直是一个笑话 4 非常不满意\n",
      "f2@#$%#@@(*(*#@(*Y*(H*((@*#(Hskhkashkj欧))))))) 4 非常不满意\n",
      "? TP-LINK TL-WR886N 450M无线路由器（宝蓝） WIFI无线穿墙王 2 中立\n",
      "好好好好好好好好好好好好好好好 0 非常满意\n",
      "T收到东西很快，包装精美，京东618真的很便宜哦！ 0 非常满意\n",
      "T给老爸买来用的，听听音乐，看看文件，上个网足够了 2 中立\n",
      "T凑单买的，京东物流就是快上午下单，下午就到了 0 非常满意\n",
      "T苹果味道挺不错水分也足还甜就是有几个伤到骨头好像开始烂了 3 不满意\n",
      "T用了不到三个星期，电话打不出去，也挂不断，找客服，让我去维修点检测，我一看发来的维修点还在省会，不能退不能换，让我自己不上班出车费去吗？这是老子第一次用华为也是最后一次！ 4 非常不满意\n",
      "T中粮董事长：蒙牛若再现质量问题市场将不会饶恕 全文: http:t.cn/zj2mwFp （分享自 @Wind资讯） 2 中立\n",
      "V裤子质量不错非常好，面料也厚实，尺码很合身 0 非常满意\n",
      "V挺好，质量不错，舒服，值得买 1 满意\n",
      "V对于大部分不抽烟，不喝蒙牛的朋友，这条的启示是别吃隔夜菜。 4 非常不满意\n",
      "V裤子不是很好，面料也没弹性，版型也不怎么好，和图片也是两回事 3 不满意\n",
      "V根本不是纯棉，一颗星都不想给 4 非常不满意\n",
      "V谬论？内蒙基层官员：蒙牛伊利没任何毛病 源头不安全 http:t.cn/zjzVHW4 （分享自 @新浪财经） 2 中立\n"
     ]
    }
   ],
   "execution_count": 4
  }
 ],
 "metadata": {
  "kernelspec": {
   "display_name": "Python 3",
   "language": "python",
   "name": "python3"
  },
  "language_info": {
   "codemirror_mode": {
    "name": "ipython",
    "version": 2
   },
   "file_extension": ".py",
   "mimetype": "text/x-python",
   "name": "python",
   "nbconvert_exporter": "python",
   "pygments_lexer": "ipython2",
   "version": "2.7.6"
  }
 },
 "nbformat": 4,
 "nbformat_minor": 5
}
