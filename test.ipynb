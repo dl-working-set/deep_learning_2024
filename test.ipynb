{
 "cells": [
  {
   "metadata": {},
   "cell_type": "markdown",
   "source": [
    "- 模型应用\n",
    "  - 模型加载\n",
    "  - 模型测试集评估\n",
    "    - 准确率\n",
    "    - 召回率\n",
    "    - F1\n"
   ],
   "id": "4f2f86b545fa0ce0"
  },
  {
   "metadata": {},
   "cell_type": "code",
   "outputs": [],
   "execution_count": null,
   "source": [
    "from dataset import SentimentAnalysisDataset\n",
    "\n",
    "model = SentimentAnalysisDataset()\n",
    "model.load(\"./model/sentiment_analysis.h5\")\n",
    "\n",
    "for epoch in range(1, train_epochs + 1):\n",
    "    train_loss, train_macro_p, train_macro_r, train_macro_f1 = train(epoch)\n",
    "    test_loss, test_macro_p, test_macro_r, test_macro_f1 = test(epoch)\n",
    "\n",
    "    print('epoch[{:d}]'.format(epoch),\n",
    "          'train_loss[{:f}]'.format(train_loss),\n",
    "          'test_loss[{:f}]'.format(test_loss),\n",
    "          'train_macro_p[{:f}]'.format(train_macro_p),\n",
    "          'test_macro_p[{:f}]'.format(test_macro_p),\n",
    "          'train_macro_r[{:f}]'.format(train_macro_r),\n",
    "          'test_macro_r[{:f}]'.format(test_macro_r),\n",
    "          'train_macro_f1[{:f}]'.format(train_macro_f1),\n",
    "          'test_macro_f1[{:f}]'.format(test_macro_f1),\n",
    "          time.strftime('%Y-%m-%d %H:%M:%S', time.localtime(time.time())))\n",
    "    writer.add_scalars(\"疫情微博情绪分类__损失_{:s}\".format(t), {\n",
    "        'train_loss': train_loss,\n",
    "        'test_loss': test_loss\n",
    "    }, epoch)\n",
    "    writer.add_scalars(\"疫情微博情绪分类__宏精准率_{:s}\".format(t), {\n",
    "        'train_macro_p': train_macro_p,\n",
    "        'test_macro_p': test_macro_p\n",
    "    }, epoch)\n",
    "    writer.add_scalars(\"疫情微博情绪分类__宏召回率_{:s}\".format(t), {\n",
    "        'train_macro_r': train_macro_r,\n",
    "        'test_macro_r': test_macro_r\n",
    "    }, epoch)\n",
    "    writer.add_scalars(\"疫情微博情绪分类__宏F1值_{:s}\".format(t), {\n",
    "        'train_macro_f1': train_macro_f1,\n",
    "        'test_macro_f1': test_macro_f1\n",
    "    }, epoch)"
   ],
   "id": "edd520e40310cd16"
  }
 ],
 "metadata": {
  "kernelspec": {
   "display_name": "Python 3",
   "language": "python",
   "name": "python3"
  },
  "language_info": {
   "codemirror_mode": {
    "name": "ipython",
    "version": 2
   },
   "file_extension": ".py",
   "mimetype": "text/x-python",
   "name": "python",
   "nbconvert_exporter": "python",
   "pygments_lexer": "ipython2",
   "version": "2.7.6"
  }
 },
 "nbformat": 4,
 "nbformat_minor": 5
}
