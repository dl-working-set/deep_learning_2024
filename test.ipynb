{
 "cells": [
  {
   "metadata": {},
   "cell_type": "markdown",
   "source": [
    "- 模型应用\n",
    "  - 模型加载\n",
    "  - 模型测试集评估\n",
    "    - 准确率\n",
    "    - 召回率\n",
    "    - F1\n"
   ],
   "id": "4f2f86b545fa0ce0"
  },
  {
   "metadata": {
    "ExecuteTime": {
     "end_time": "2024-10-28T11:12:44.788784Z",
     "start_time": "2024-10-28T11:12:36.030734Z"
    }
   },
   "cell_type": "code",
   "source": [
    "# 测试集评论数据测试\n",
    "\n",
    "import time\n",
    "\n",
    "import torch\n",
    "from sklearn.metrics import precision_score, recall_score, f1_score, classification_report\n",
    "\n",
    "import dataset\n",
    "import dictionary\n",
    "import model\n",
    "from init import config\n",
    "\n",
    "stopwords = dataset.load_stopwords(config.stopwords_path)\n",
    "model = model.SentimentAnalysisModel().load(config.model_pt_path).to(config.device)\n",
    "print('test_model[{:s}]'.format(config.model_pt_path), )\n",
    "dictionary = dictionary.SentimentAnalysisDictionary().load(config.dictionary_pt_path)\n",
    "print('dictionary[{:s}]'.format(config.dictionary_pt_path), )\n",
    "test_contents, test_emotions = dataset.load_contents_labels(config.test_data_path)\n",
    "test_tokens = dataset.tokenization(test_contents, stopwords)\n",
    "test_dataset = dataset.SentimentAnalysisDataset(tokens=test_tokens, emotions=test_emotions,\n",
    "                                                sequence_length=config.model_sequence_length,\n",
    "                                                dictionary=dictionary, ).dataset\n",
    "\n",
    "loss_fn = torch.nn.CrossEntropyLoss()\n",
    "model.eval()\n",
    "data, targets = test_dataset.tensors[0].to(config.device), test_dataset.tensors[1].to(config.device)\n",
    "output = model(data)\n",
    "test_loss = loss_fn(output, targets).item()\n",
    "predicted = output.argmax(dim=1).cpu().numpy()\n",
    "labels = targets.cpu().numpy()\n",
    "print(\"每个类别的精确率和召回率：\\n\",\n",
    "      classification_report(labels, predicted, target_names=dataset.emotion2label.keys()))\n",
    "\n",
    "test_macro_precision = precision_score(labels, predicted, average='macro', zero_division=0)  # 宏精准率\n",
    "test_macro_recall = recall_score(labels, predicted, average='macro', zero_division=0)  # 宏召回率\n",
    "test_macro_f1 = f1_score(labels, predicted, average='macro')  # 宏F1值\n",
    "print('test_loss[{:f}]'.format(test_loss),\n",
    "      'test_macro_precision[{:f}]'.format(test_macro_precision),\n",
    "      'test_macro_recall[{:f}]'.format(test_macro_recall),\n",
    "      'test_macro_f1[{:f}]'.format(test_macro_f1),\n",
    "      time.strftime('%Y-%m-%d %H:%M:%S', time.localtime(time.time())))"
   ],
   "id": "edd520e40310cd16",
   "outputs": [
    {
     "name": "stdout",
     "output_type": "stream",
     "text": [
      "test_model[pt/sentiment_analysis_GRU_512_0.2_ReLU_100_35_128_50_0.001_0.8_pt]\n",
      "dictionary[pt/dictionary.pt]\n",
      "每个类别的精确率和召回率：\n",
      "               precision    recall  f1-score   support\n",
      "\n",
      "        非常满意       0.52      0.75      0.62       885\n",
      "          满意       0.56      0.55      0.55      1247\n",
      "          中立       0.25      0.43      0.32       268\n",
      "         不满意       0.46      0.47      0.47      1150\n",
      "       非常不满意       0.81      0.47      0.60      1320\n",
      "        无效评论       0.19      0.20      0.19        41\n",
      "\n",
      "    accuracy                           0.54      4911\n",
      "   macro avg       0.47      0.48      0.46      4911\n",
      "weighted avg       0.58      0.54      0.54      4911\n",
      "\n",
      "test_loss[1.215363] test_macro_precision[0.467047] test_macro_recall[0.477122] test_macro_f1[0.457533] 2024-10-28 19:12:44\n"
     ]
    }
   ],
   "execution_count": 45
  },
  {
   "metadata": {
    "ExecuteTime": {
     "end_time": "2024-10-28T11:12:09.136663Z",
     "start_time": "2024-10-28T11:12:09.075494Z"
    }
   },
   "cell_type": "code",
   "source": [
    "# 随机评论数据测试\n",
    "import numpy\n",
    "import torch\n",
    "import model\n",
    "import dataset\n",
    "import dictionary\n",
    "from init import config\n",
    "\n",
    "stopwords = dataset.load_stopwords(config.stopwords_path)\n",
    "model = model.SentimentAnalysisModel().load(config.model_pt_path).to(config.device)\n",
    "print('test_model[{:s}]'.format(config.model_pt_path), )\n",
    "dictionary = dictionary.SentimentAnalysisDictionary().load(config.dictionary_pt_path)\n",
    "print('dictionary[{:s}]'.format(config.dictionary_pt_path), )\n",
    "\n",
    "contents = [\"感觉这个秤非常小巧精致实用。自从看到家人买来这个秤以后，其他的包括秤（包括金器秤）都被闲置了\",\n",
    "            \"第三次购买了，还算可以，希望能更耐用一些。\",\n",
    "            \"没什想说的，中规中矩，没什么色差\",\n",
    "            \"秤盘不平，一边高一边低。这个价位不应该这样了。按键硬，按起来费力。底座盘不平，有一个脚悬空\",\n",
    "            \"底座四个点不平，质量不行，本来就是有精度要求，结果买一个底座不平的电子秤。简直是一个笑话\",\n",
    "            \"f2@#$%#@@2r22r22s阿斯头孢哦90823089\"]\n",
    "\n",
    "tokens = dataset.tokenization(contents, stopwords)\n",
    "tokens = [[word for word in token if word in dictionary.word_id_dict] for token in tokens]\n",
    "tokens_truncated = [token[:config.model_sequence_length] for token in tokens]\n",
    "tokens_padded = [dataset.padding(token, config.model_sequence_length) for token in tokens_truncated]\n",
    "tokens_ids = [[dictionary.word_id_dict[word] for word in token if word in dictionary.word_id_dict] for\n",
    "              token in tokens_padded]\n",
    "\n",
    "for i, token_id in enumerate(tokens_ids):\n",
    "    data = torch.LongTensor(numpy.array(token_id)).unsqueeze(0).to(config.device)\n",
    "    output = model(data)\n",
    "    predicted = output.argmax(dim=1).cpu().numpy()\n",
    "    print(contents[i], predicted[0], dataset.label2emotion.get(predicted[0]))"
   ],
   "id": "dbb9e95b04ecf63",
   "outputs": [
    {
     "name": "stdout",
     "output_type": "stream",
     "text": [
      "test_model[pt/sentiment_analysis_GRU_512_0.2_ReLU_100_35_128_50_0.001_0.8_pt]\n",
      "dictionary[pt/dictionary.pt]\n",
      "感觉这个秤非常小巧精致实用。自从看到家人买来这个秤以后，其他的包括秤（包括金器秤）都被闲置了 0 非常满意\n",
      "第三次购买了，还算挺好的，希望能更耐用一些。 1 满意\n",
      "没什想说的，中规中矩，没什么色差 2 中立\n",
      "秤盘不平，一边高一边低。这个价位不应该这样了。按键硬，按起来费力。底座盘不平，有一个脚悬空 3 不满意\n",
      "底座四个点不平，质量非常差，本来就是有精度要求，结果买一个底座不平的电子秤。简直是一个笑话 4 非常不满意\n",
      "f2@#$%#@@2r22r22s阿斯头孢哦90823089 2 中立\n"
     ]
    }
   ],
   "execution_count": 43
  }
 ],
 "metadata": {
  "kernelspec": {
   "display_name": "Python 3",
   "language": "python",
   "name": "python3"
  },
  "language_info": {
   "codemirror_mode": {
    "name": "ipython",
    "version": 2
   },
   "file_extension": ".py",
   "mimetype": "text/x-python",
   "name": "python",
   "nbconvert_exporter": "python",
   "pygments_lexer": "ipython2",
   "version": "2.7.6"
  }
 },
 "nbformat": 4,
 "nbformat_minor": 5
}
