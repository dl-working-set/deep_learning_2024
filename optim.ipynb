{
 "cells": [
  {
   "metadata": {},
   "cell_type": "markdown",
   "source": [
    "- 模型优化\n",
    "  - 模型调优\n",
    "    - 网络类型：AlexNet、ResNet、LSTM、GRU、Transformer\n",
    "    - 网络大小：层数、神经元个数\n",
    "    - 正则化：L1、L2、Dropout\n",
    "    - 激活函数：ReLU、Sigmoid、Tanh\n",
    "  - 训练调优\n",
    "    - batch_size：根据拟合程度调整\n",
    "    - epochs：根据拟合程度调整\n",
    "    - 学习率：根据收敛程度调整\n",
    "    - 优化器：Optimizer(SGD、Adam、RMSprop)、lr_scheduler(step、linear)"
   ],
   "id": "dcf8f6581552d28b"
  },
  {
   "cell_type": "code",
   "execution_count": null,
   "id": "initial_id",
   "metadata": {
    "collapsed": true
   },
   "outputs": [],
   "source": [
    "# 1.1 模型调优：网络类型\n",
    "# TODO\n"
   ]
  },
  {
   "metadata": {},
   "cell_type": "code",
   "outputs": [],
   "execution_count": null,
   "source": [
    "# 1.2 模型调优：网络大小\n",
    "# TODO\n"
   ],
   "id": "194a2d18702a0947"
  },
  {
   "metadata": {},
   "cell_type": "code",
   "outputs": [],
   "execution_count": null,
   "source": [
    "# 1.3 模型调优：正则化\n",
    "# TODO\n"
   ],
   "id": "e4242cb6985df8d2"
  },
  {
   "metadata": {},
   "cell_type": "code",
   "outputs": [],
   "execution_count": null,
   "source": [
    "# 1.4 模型调优：计划函数\n",
    "# TODO\n"
   ],
   "id": "868544e4895bda7e"
  },
  {
   "metadata": {},
   "cell_type": "code",
   "outputs": [],
   "execution_count": null,
   "source": [
    "# 2.1 训练调优：batch_size\n",
    "# TODO\n"
   ],
   "id": "14e37a97504a7c3b"
  },
  {
   "metadata": {},
   "cell_type": "code",
   "outputs": [],
   "execution_count": null,
   "source": [
    "# 2.2 训练调优：epochs\n",
    "# TODO\n"
   ],
   "id": "50fd5bee59c07ea2"
  },
  {
   "metadata": {},
   "cell_type": "code",
   "outputs": [],
   "execution_count": null,
   "source": [
    "# 2.3 训练调优：学习率\n",
    "# TODO\n"
   ],
   "id": "97e15e7c2c24ac91"
  },
  {
   "metadata": {},
   "cell_type": "code",
   "outputs": [],
   "execution_count": null,
   "source": [
    "        #\n",
    "        # # 标签分布图\n",
    "        # self.labels_pie(\"Training label distribution [Standard]\", self.train_labels)\n",
    "        # self.labels_pie(\"Evaluating label distribution [Standard]\", self.eval_labels)"
   ],
   "id": "5c165949cb5c5af8"
  },
  {
   "metadata": {},
   "cell_type": "code",
   "outputs": [],
   "execution_count": null,
   "source": [
    "# 2.4 训练调优：优化器\n",
    "# TODO\n"
   ],
   "id": "307c57076d5a9a9d"
  }
 ],
 "metadata": {
  "kernelspec": {
   "display_name": "Python 3",
   "language": "python",
   "name": "python3"
  },
  "language_info": {
   "codemirror_mode": {
    "name": "ipython",
    "version": 2
   },
   "file_extension": ".py",
   "mimetype": "text/x-python",
   "name": "python",
   "nbconvert_exporter": "python",
   "pygments_lexer": "ipython2",
   "version": "2.7.6"
  }
 },
 "nbformat": 4,
 "nbformat_minor": 5
}
