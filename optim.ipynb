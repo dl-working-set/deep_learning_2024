{
 "cells": [
  {
   "metadata": {},
   "cell_type": "markdown",
   "source": [
    "- 模型优化\n",
    "  - 模型调优\n",
    "    - 网络类型：AlexNet、ResNet、LSTM、GRU、Transformer\n",
    "    - 网络大小：层数、神经元个数\n",
    "    - 正则化：L1、L2、Dropout\n",
    "    - 激活函数：ReLU、Sigmoid、Tanh\n",
    "  - 训练调优\n",
    "    - batch_size：根据拟合程度调整\n",
    "    - epochs：根据拟合程度调整\n",
    "    - 学习率：根据收敛程度调整\n",
    "    - 优化器：Optimizer(SGD、Adam、RMSprop)、lr_scheduler(step、linear)"
   ],
   "id": "dcf8f6581552d28b"
  },
  {
   "cell_type": "code",
   "execution_count": null,
   "id": "initial_id",
   "metadata": {
    "collapsed": true
   },
   "outputs": [],
   "source": [
    ""
   ]
  }
 ],
 "metadata": {
  "kernelspec": {
   "display_name": "Python 3",
   "language": "python",
   "name": "python3"
  },
  "language_info": {
   "codemirror_mode": {
    "name": "ipython",
    "version": 2
   },
   "file_extension": ".py",
   "mimetype": "text/x-python",
   "name": "python",
   "nbconvert_exporter": "python",
   "pygments_lexer": "ipython2",
   "version": "2.7.6"
  }
 },
 "nbformat": 4,
 "nbformat_minor": 5
}
